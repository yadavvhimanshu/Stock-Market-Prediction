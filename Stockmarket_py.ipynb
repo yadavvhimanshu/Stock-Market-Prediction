{
  "nbformat": 4,
  "nbformat_minor": 0,
  "metadata": {
    "colab": {
      "provenance": [],
      "authorship_tag": "ABX9TyMmJH/bttKAh3PSZU+86Yo+"
    },
    "kernelspec": {
      "name": "python3",
      "display_name": "Python 3"
    },
    "language_info": {
      "name": "python"
    }
  },
  "cells": [
    {
      "cell_type": "markdown",
      "source": [
        "keras and tensorflow>2.0"
      ],
      "metadata": {
        "id": "hTV0CXRKWtP1"
      }
    },
    {
      "cell_type": "code",
      "source": [
        "#data collection\n",
        "import pandas_datareader as pdr"
      ],
      "metadata": {
        "id": "XGb-lr9lW9s4"
      },
      "execution_count": 3,
      "outputs": []
    },
    {
      "cell_type": "code",
      "source": [
        "df = pdr.get_data_tiingo('AAPL', api_key='10a12bb0b7ff91f08703e35fd3fa01c5d0175caa')"
      ],
      "metadata": {
        "colab": {
          "base_uri": "https://localhost:8080/"
        },
        "id": "r5sc5Ls0XZcm",
        "outputId": "d2eae7de-576e-4c0a-c0f6-89fe8f9cc9c6"
      },
      "execution_count": 6,
      "outputs": [
        {
          "output_type": "stream",
          "name": "stderr",
          "text": [
            "/usr/local/lib/python3.8/dist-packages/pandas_datareader/tiingo.py:234: FutureWarning: In a future version of pandas all arguments of concat except for the argument 'objs' will be keyword-only\n",
            "  return pd.concat(dfs, self._concat_axis)\n"
          ]
        }
      ]
    },
    {
      "cell_type": "code",
      "source": [
        "df.to_csv('AAPL.csv')"
      ],
      "metadata": {
        "id": "7l8v7-eSbpdt"
      },
      "execution_count": 7,
      "outputs": []
    },
    {
      "cell_type": "code",
      "source": [
        "import pandas as pd "
      ],
      "metadata": {
        "id": "LH0xhti-cEp0"
      },
      "execution_count": 8,
      "outputs": []
    },
    {
      "cell_type": "code",
      "source": [
        "df.head()"
      ],
      "metadata": {
        "colab": {
          "base_uri": "https://localhost:8080/",
          "height": 237
        },
        "id": "zN1m8tl_c60u",
        "outputId": "e7f7cf25-92c2-4354-c9e0-05796781b29d"
      },
      "execution_count": 11,
      "outputs": [
        {
          "output_type": "execute_result",
          "data": {
            "text/plain": [
              "                                   close    high     low    open    volume  \\\n",
              "symbol date                                                                  \n",
              "AAPL   2018-02-26 00:00:00+00:00  178.97  179.39  176.21  176.35  36886432   \n",
              "       2018-02-27 00:00:00+00:00  178.39  180.48  178.16  179.10  38685165   \n",
              "       2018-02-28 00:00:00+00:00  178.12  180.62  178.05  179.26  33604574   \n",
              "       2018-03-01 00:00:00+00:00  175.00  179.78  172.66  178.54  48801970   \n",
              "       2018-03-02 00:00:00+00:00  176.21  176.30  172.45  172.80  38453950   \n",
              "\n",
              "                                   adjClose    adjHigh     adjLow    adjOpen  \\\n",
              "symbol date                                                                    \n",
              "AAPL   2018-02-26 00:00:00+00:00  42.596219  42.696182  41.939318  41.972639   \n",
              "       2018-02-27 00:00:00+00:00  42.458174  42.955610  42.403433  42.627160   \n",
              "       2018-02-28 00:00:00+00:00  42.393912  42.988931  42.377252  42.665241   \n",
              "       2018-03-01 00:00:00+00:00  41.651329  42.789005  41.094391  42.493876   \n",
              "       2018-03-02 00:00:00+00:00  41.939318  41.960739  41.044409  41.127712   \n",
              "\n",
              "                                  adjVolume  divCash  splitFactor  \n",
              "symbol date                                                        \n",
              "AAPL   2018-02-26 00:00:00+00:00  147545728      0.0          1.0  \n",
              "       2018-02-27 00:00:00+00:00  154740660      0.0          1.0  \n",
              "       2018-02-28 00:00:00+00:00  134418296      0.0          1.0  \n",
              "       2018-03-01 00:00:00+00:00  195207880      0.0          1.0  \n",
              "       2018-03-02 00:00:00+00:00  153815800      0.0          1.0  "
            ],
            "text/html": [
              "\n",
              "  <div id=\"df-362b6c8e-4c9b-4a12-93df-ccbd4ae2b71a\">\n",
              "    <div class=\"colab-df-container\">\n",
              "      <div>\n",
              "<style scoped>\n",
              "    .dataframe tbody tr th:only-of-type {\n",
              "        vertical-align: middle;\n",
              "    }\n",
              "\n",
              "    .dataframe tbody tr th {\n",
              "        vertical-align: top;\n",
              "    }\n",
              "\n",
              "    .dataframe thead th {\n",
              "        text-align: right;\n",
              "    }\n",
              "</style>\n",
              "<table border=\"1\" class=\"dataframe\">\n",
              "  <thead>\n",
              "    <tr style=\"text-align: right;\">\n",
              "      <th></th>\n",
              "      <th></th>\n",
              "      <th>close</th>\n",
              "      <th>high</th>\n",
              "      <th>low</th>\n",
              "      <th>open</th>\n",
              "      <th>volume</th>\n",
              "      <th>adjClose</th>\n",
              "      <th>adjHigh</th>\n",
              "      <th>adjLow</th>\n",
              "      <th>adjOpen</th>\n",
              "      <th>adjVolume</th>\n",
              "      <th>divCash</th>\n",
              "      <th>splitFactor</th>\n",
              "    </tr>\n",
              "    <tr>\n",
              "      <th>symbol</th>\n",
              "      <th>date</th>\n",
              "      <th></th>\n",
              "      <th></th>\n",
              "      <th></th>\n",
              "      <th></th>\n",
              "      <th></th>\n",
              "      <th></th>\n",
              "      <th></th>\n",
              "      <th></th>\n",
              "      <th></th>\n",
              "      <th></th>\n",
              "      <th></th>\n",
              "      <th></th>\n",
              "    </tr>\n",
              "  </thead>\n",
              "  <tbody>\n",
              "    <tr>\n",
              "      <th rowspan=\"5\" valign=\"top\">AAPL</th>\n",
              "      <th>2018-02-26 00:00:00+00:00</th>\n",
              "      <td>178.97</td>\n",
              "      <td>179.39</td>\n",
              "      <td>176.21</td>\n",
              "      <td>176.35</td>\n",
              "      <td>36886432</td>\n",
              "      <td>42.596219</td>\n",
              "      <td>42.696182</td>\n",
              "      <td>41.939318</td>\n",
              "      <td>41.972639</td>\n",
              "      <td>147545728</td>\n",
              "      <td>0.0</td>\n",
              "      <td>1.0</td>\n",
              "    </tr>\n",
              "    <tr>\n",
              "      <th>2018-02-27 00:00:00+00:00</th>\n",
              "      <td>178.39</td>\n",
              "      <td>180.48</td>\n",
              "      <td>178.16</td>\n",
              "      <td>179.10</td>\n",
              "      <td>38685165</td>\n",
              "      <td>42.458174</td>\n",
              "      <td>42.955610</td>\n",
              "      <td>42.403433</td>\n",
              "      <td>42.627160</td>\n",
              "      <td>154740660</td>\n",
              "      <td>0.0</td>\n",
              "      <td>1.0</td>\n",
              "    </tr>\n",
              "    <tr>\n",
              "      <th>2018-02-28 00:00:00+00:00</th>\n",
              "      <td>178.12</td>\n",
              "      <td>180.62</td>\n",
              "      <td>178.05</td>\n",
              "      <td>179.26</td>\n",
              "      <td>33604574</td>\n",
              "      <td>42.393912</td>\n",
              "      <td>42.988931</td>\n",
              "      <td>42.377252</td>\n",
              "      <td>42.665241</td>\n",
              "      <td>134418296</td>\n",
              "      <td>0.0</td>\n",
              "      <td>1.0</td>\n",
              "    </tr>\n",
              "    <tr>\n",
              "      <th>2018-03-01 00:00:00+00:00</th>\n",
              "      <td>175.00</td>\n",
              "      <td>179.78</td>\n",
              "      <td>172.66</td>\n",
              "      <td>178.54</td>\n",
              "      <td>48801970</td>\n",
              "      <td>41.651329</td>\n",
              "      <td>42.789005</td>\n",
              "      <td>41.094391</td>\n",
              "      <td>42.493876</td>\n",
              "      <td>195207880</td>\n",
              "      <td>0.0</td>\n",
              "      <td>1.0</td>\n",
              "    </tr>\n",
              "    <tr>\n",
              "      <th>2018-03-02 00:00:00+00:00</th>\n",
              "      <td>176.21</td>\n",
              "      <td>176.30</td>\n",
              "      <td>172.45</td>\n",
              "      <td>172.80</td>\n",
              "      <td>38453950</td>\n",
              "      <td>41.939318</td>\n",
              "      <td>41.960739</td>\n",
              "      <td>41.044409</td>\n",
              "      <td>41.127712</td>\n",
              "      <td>153815800</td>\n",
              "      <td>0.0</td>\n",
              "      <td>1.0</td>\n",
              "    </tr>\n",
              "  </tbody>\n",
              "</table>\n",
              "</div>\n",
              "      <button class=\"colab-df-convert\" onclick=\"convertToInteractive('df-362b6c8e-4c9b-4a12-93df-ccbd4ae2b71a')\"\n",
              "              title=\"Convert this dataframe to an interactive table.\"\n",
              "              style=\"display:none;\">\n",
              "        \n",
              "  <svg xmlns=\"http://www.w3.org/2000/svg\" height=\"24px\"viewBox=\"0 0 24 24\"\n",
              "       width=\"24px\">\n",
              "    <path d=\"M0 0h24v24H0V0z\" fill=\"none\"/>\n",
              "    <path d=\"M18.56 5.44l.94 2.06.94-2.06 2.06-.94-2.06-.94-.94-2.06-.94 2.06-2.06.94zm-11 1L8.5 8.5l.94-2.06 2.06-.94-2.06-.94L8.5 2.5l-.94 2.06-2.06.94zm10 10l.94 2.06.94-2.06 2.06-.94-2.06-.94-.94-2.06-.94 2.06-2.06.94z\"/><path d=\"M17.41 7.96l-1.37-1.37c-.4-.4-.92-.59-1.43-.59-.52 0-1.04.2-1.43.59L10.3 9.45l-7.72 7.72c-.78.78-.78 2.05 0 2.83L4 21.41c.39.39.9.59 1.41.59.51 0 1.02-.2 1.41-.59l7.78-7.78 2.81-2.81c.8-.78.8-2.07 0-2.86zM5.41 20L4 18.59l7.72-7.72 1.47 1.35L5.41 20z\"/>\n",
              "  </svg>\n",
              "      </button>\n",
              "      \n",
              "  <style>\n",
              "    .colab-df-container {\n",
              "      display:flex;\n",
              "      flex-wrap:wrap;\n",
              "      gap: 12px;\n",
              "    }\n",
              "\n",
              "    .colab-df-convert {\n",
              "      background-color: #E8F0FE;\n",
              "      border: none;\n",
              "      border-radius: 50%;\n",
              "      cursor: pointer;\n",
              "      display: none;\n",
              "      fill: #1967D2;\n",
              "      height: 32px;\n",
              "      padding: 0 0 0 0;\n",
              "      width: 32px;\n",
              "    }\n",
              "\n",
              "    .colab-df-convert:hover {\n",
              "      background-color: #E2EBFA;\n",
              "      box-shadow: 0px 1px 2px rgba(60, 64, 67, 0.3), 0px 1px 3px 1px rgba(60, 64, 67, 0.15);\n",
              "      fill: #174EA6;\n",
              "    }\n",
              "\n",
              "    [theme=dark] .colab-df-convert {\n",
              "      background-color: #3B4455;\n",
              "      fill: #D2E3FC;\n",
              "    }\n",
              "\n",
              "    [theme=dark] .colab-df-convert:hover {\n",
              "      background-color: #434B5C;\n",
              "      box-shadow: 0px 1px 3px 1px rgba(0, 0, 0, 0.15);\n",
              "      filter: drop-shadow(0px 1px 2px rgba(0, 0, 0, 0.3));\n",
              "      fill: #FFFFFF;\n",
              "    }\n",
              "  </style>\n",
              "\n",
              "      <script>\n",
              "        const buttonEl =\n",
              "          document.querySelector('#df-362b6c8e-4c9b-4a12-93df-ccbd4ae2b71a button.colab-df-convert');\n",
              "        buttonEl.style.display =\n",
              "          google.colab.kernel.accessAllowed ? 'block' : 'none';\n",
              "\n",
              "        async function convertToInteractive(key) {\n",
              "          const element = document.querySelector('#df-362b6c8e-4c9b-4a12-93df-ccbd4ae2b71a');\n",
              "          const dataTable =\n",
              "            await google.colab.kernel.invokeFunction('convertToInteractive',\n",
              "                                                     [key], {});\n",
              "          if (!dataTable) return;\n",
              "\n",
              "          const docLinkHtml = 'Like what you see? Visit the ' +\n",
              "            '<a target=\"_blank\" href=https://colab.research.google.com/notebooks/data_table.ipynb>data table notebook</a>'\n",
              "            + ' to learn more about interactive tables.';\n",
              "          element.innerHTML = '';\n",
              "          dataTable['output_type'] = 'display_data';\n",
              "          await google.colab.output.renderOutput(dataTable, element);\n",
              "          const docLink = document.createElement('div');\n",
              "          docLink.innerHTML = docLinkHtml;\n",
              "          element.appendChild(docLink);\n",
              "        }\n",
              "      </script>\n",
              "    </div>\n",
              "  </div>\n",
              "  "
            ]
          },
          "metadata": {},
          "execution_count": 11
        }
      ]
    },
    {
      "cell_type": "code",
      "source": [
        "df.tail()"
      ],
      "metadata": {
        "colab": {
          "base_uri": "https://localhost:8080/",
          "height": 237
        },
        "id": "A65z_lEydRTb",
        "outputId": "b4c2e446-1eab-45ac-cfc3-0d375848f906"
      },
      "execution_count": 12,
      "outputs": [
        {
          "output_type": "execute_result",
          "data": {
            "text/plain": [
              "                                   close    high       low    open    volume  \\\n",
              "symbol date                                                                    \n",
              "AAPL   2023-02-17 00:00:00+00:00  152.55  153.00  150.8500  152.35  59144118   \n",
              "       2023-02-21 00:00:00+00:00  148.48  151.30  148.4050  150.20  58867230   \n",
              "       2023-02-22 00:00:00+00:00  148.91  149.95  147.1600  148.87  51011305   \n",
              "       2023-02-23 00:00:00+00:00  149.40  150.34  147.2400  150.09  48394249   \n",
              "       2023-02-24 00:00:00+00:00  146.71  147.19  145.7202  147.11  55469606   \n",
              "\n",
              "                                  adjClose  adjHigh    adjLow  adjOpen  \\\n",
              "symbol date                                                              \n",
              "AAPL   2023-02-17 00:00:00+00:00    152.55   153.00  150.8500   152.35   \n",
              "       2023-02-21 00:00:00+00:00    148.48   151.30  148.4050   150.20   \n",
              "       2023-02-22 00:00:00+00:00    148.91   149.95  147.1600   148.87   \n",
              "       2023-02-23 00:00:00+00:00    149.40   150.34  147.2400   150.09   \n",
              "       2023-02-24 00:00:00+00:00    146.71   147.19  145.7202   147.11   \n",
              "\n",
              "                                  adjVolume  divCash  splitFactor  \n",
              "symbol date                                                        \n",
              "AAPL   2023-02-17 00:00:00+00:00   59144118      0.0          1.0  \n",
              "       2023-02-21 00:00:00+00:00   58867230      0.0          1.0  \n",
              "       2023-02-22 00:00:00+00:00   51011305      0.0          1.0  \n",
              "       2023-02-23 00:00:00+00:00   48394249      0.0          1.0  \n",
              "       2023-02-24 00:00:00+00:00   55469606      0.0          1.0  "
            ],
            "text/html": [
              "\n",
              "  <div id=\"df-916f7036-b6e3-4439-a502-d80738a4c040\">\n",
              "    <div class=\"colab-df-container\">\n",
              "      <div>\n",
              "<style scoped>\n",
              "    .dataframe tbody tr th:only-of-type {\n",
              "        vertical-align: middle;\n",
              "    }\n",
              "\n",
              "    .dataframe tbody tr th {\n",
              "        vertical-align: top;\n",
              "    }\n",
              "\n",
              "    .dataframe thead th {\n",
              "        text-align: right;\n",
              "    }\n",
              "</style>\n",
              "<table border=\"1\" class=\"dataframe\">\n",
              "  <thead>\n",
              "    <tr style=\"text-align: right;\">\n",
              "      <th></th>\n",
              "      <th></th>\n",
              "      <th>close</th>\n",
              "      <th>high</th>\n",
              "      <th>low</th>\n",
              "      <th>open</th>\n",
              "      <th>volume</th>\n",
              "      <th>adjClose</th>\n",
              "      <th>adjHigh</th>\n",
              "      <th>adjLow</th>\n",
              "      <th>adjOpen</th>\n",
              "      <th>adjVolume</th>\n",
              "      <th>divCash</th>\n",
              "      <th>splitFactor</th>\n",
              "    </tr>\n",
              "    <tr>\n",
              "      <th>symbol</th>\n",
              "      <th>date</th>\n",
              "      <th></th>\n",
              "      <th></th>\n",
              "      <th></th>\n",
              "      <th></th>\n",
              "      <th></th>\n",
              "      <th></th>\n",
              "      <th></th>\n",
              "      <th></th>\n",
              "      <th></th>\n",
              "      <th></th>\n",
              "      <th></th>\n",
              "      <th></th>\n",
              "    </tr>\n",
              "  </thead>\n",
              "  <tbody>\n",
              "    <tr>\n",
              "      <th rowspan=\"5\" valign=\"top\">AAPL</th>\n",
              "      <th>2023-02-17 00:00:00+00:00</th>\n",
              "      <td>152.55</td>\n",
              "      <td>153.00</td>\n",
              "      <td>150.8500</td>\n",
              "      <td>152.35</td>\n",
              "      <td>59144118</td>\n",
              "      <td>152.55</td>\n",
              "      <td>153.00</td>\n",
              "      <td>150.8500</td>\n",
              "      <td>152.35</td>\n",
              "      <td>59144118</td>\n",
              "      <td>0.0</td>\n",
              "      <td>1.0</td>\n",
              "    </tr>\n",
              "    <tr>\n",
              "      <th>2023-02-21 00:00:00+00:00</th>\n",
              "      <td>148.48</td>\n",
              "      <td>151.30</td>\n",
              "      <td>148.4050</td>\n",
              "      <td>150.20</td>\n",
              "      <td>58867230</td>\n",
              "      <td>148.48</td>\n",
              "      <td>151.30</td>\n",
              "      <td>148.4050</td>\n",
              "      <td>150.20</td>\n",
              "      <td>58867230</td>\n",
              "      <td>0.0</td>\n",
              "      <td>1.0</td>\n",
              "    </tr>\n",
              "    <tr>\n",
              "      <th>2023-02-22 00:00:00+00:00</th>\n",
              "      <td>148.91</td>\n",
              "      <td>149.95</td>\n",
              "      <td>147.1600</td>\n",
              "      <td>148.87</td>\n",
              "      <td>51011305</td>\n",
              "      <td>148.91</td>\n",
              "      <td>149.95</td>\n",
              "      <td>147.1600</td>\n",
              "      <td>148.87</td>\n",
              "      <td>51011305</td>\n",
              "      <td>0.0</td>\n",
              "      <td>1.0</td>\n",
              "    </tr>\n",
              "    <tr>\n",
              "      <th>2023-02-23 00:00:00+00:00</th>\n",
              "      <td>149.40</td>\n",
              "      <td>150.34</td>\n",
              "      <td>147.2400</td>\n",
              "      <td>150.09</td>\n",
              "      <td>48394249</td>\n",
              "      <td>149.40</td>\n",
              "      <td>150.34</td>\n",
              "      <td>147.2400</td>\n",
              "      <td>150.09</td>\n",
              "      <td>48394249</td>\n",
              "      <td>0.0</td>\n",
              "      <td>1.0</td>\n",
              "    </tr>\n",
              "    <tr>\n",
              "      <th>2023-02-24 00:00:00+00:00</th>\n",
              "      <td>146.71</td>\n",
              "      <td>147.19</td>\n",
              "      <td>145.7202</td>\n",
              "      <td>147.11</td>\n",
              "      <td>55469606</td>\n",
              "      <td>146.71</td>\n",
              "      <td>147.19</td>\n",
              "      <td>145.7202</td>\n",
              "      <td>147.11</td>\n",
              "      <td>55469606</td>\n",
              "      <td>0.0</td>\n",
              "      <td>1.0</td>\n",
              "    </tr>\n",
              "  </tbody>\n",
              "</table>\n",
              "</div>\n",
              "      <button class=\"colab-df-convert\" onclick=\"convertToInteractive('df-916f7036-b6e3-4439-a502-d80738a4c040')\"\n",
              "              title=\"Convert this dataframe to an interactive table.\"\n",
              "              style=\"display:none;\">\n",
              "        \n",
              "  <svg xmlns=\"http://www.w3.org/2000/svg\" height=\"24px\"viewBox=\"0 0 24 24\"\n",
              "       width=\"24px\">\n",
              "    <path d=\"M0 0h24v24H0V0z\" fill=\"none\"/>\n",
              "    <path d=\"M18.56 5.44l.94 2.06.94-2.06 2.06-.94-2.06-.94-.94-2.06-.94 2.06-2.06.94zm-11 1L8.5 8.5l.94-2.06 2.06-.94-2.06-.94L8.5 2.5l-.94 2.06-2.06.94zm10 10l.94 2.06.94-2.06 2.06-.94-2.06-.94-.94-2.06-.94 2.06-2.06.94z\"/><path d=\"M17.41 7.96l-1.37-1.37c-.4-.4-.92-.59-1.43-.59-.52 0-1.04.2-1.43.59L10.3 9.45l-7.72 7.72c-.78.78-.78 2.05 0 2.83L4 21.41c.39.39.9.59 1.41.59.51 0 1.02-.2 1.41-.59l7.78-7.78 2.81-2.81c.8-.78.8-2.07 0-2.86zM5.41 20L4 18.59l7.72-7.72 1.47 1.35L5.41 20z\"/>\n",
              "  </svg>\n",
              "      </button>\n",
              "      \n",
              "  <style>\n",
              "    .colab-df-container {\n",
              "      display:flex;\n",
              "      flex-wrap:wrap;\n",
              "      gap: 12px;\n",
              "    }\n",
              "\n",
              "    .colab-df-convert {\n",
              "      background-color: #E8F0FE;\n",
              "      border: none;\n",
              "      border-radius: 50%;\n",
              "      cursor: pointer;\n",
              "      display: none;\n",
              "      fill: #1967D2;\n",
              "      height: 32px;\n",
              "      padding: 0 0 0 0;\n",
              "      width: 32px;\n",
              "    }\n",
              "\n",
              "    .colab-df-convert:hover {\n",
              "      background-color: #E2EBFA;\n",
              "      box-shadow: 0px 1px 2px rgba(60, 64, 67, 0.3), 0px 1px 3px 1px rgba(60, 64, 67, 0.15);\n",
              "      fill: #174EA6;\n",
              "    }\n",
              "\n",
              "    [theme=dark] .colab-df-convert {\n",
              "      background-color: #3B4455;\n",
              "      fill: #D2E3FC;\n",
              "    }\n",
              "\n",
              "    [theme=dark] .colab-df-convert:hover {\n",
              "      background-color: #434B5C;\n",
              "      box-shadow: 0px 1px 3px 1px rgba(0, 0, 0, 0.15);\n",
              "      filter: drop-shadow(0px 1px 2px rgba(0, 0, 0, 0.3));\n",
              "      fill: #FFFFFF;\n",
              "    }\n",
              "  </style>\n",
              "\n",
              "      <script>\n",
              "        const buttonEl =\n",
              "          document.querySelector('#df-916f7036-b6e3-4439-a502-d80738a4c040 button.colab-df-convert');\n",
              "        buttonEl.style.display =\n",
              "          google.colab.kernel.accessAllowed ? 'block' : 'none';\n",
              "\n",
              "        async function convertToInteractive(key) {\n",
              "          const element = document.querySelector('#df-916f7036-b6e3-4439-a502-d80738a4c040');\n",
              "          const dataTable =\n",
              "            await google.colab.kernel.invokeFunction('convertToInteractive',\n",
              "                                                     [key], {});\n",
              "          if (!dataTable) return;\n",
              "\n",
              "          const docLinkHtml = 'Like what you see? Visit the ' +\n",
              "            '<a target=\"_blank\" href=https://colab.research.google.com/notebooks/data_table.ipynb>data table notebook</a>'\n",
              "            + ' to learn more about interactive tables.';\n",
              "          element.innerHTML = '';\n",
              "          dataTable['output_type'] = 'display_data';\n",
              "          await google.colab.output.renderOutput(dataTable, element);\n",
              "          const docLink = document.createElement('div');\n",
              "          docLink.innerHTML = docLinkHtml;\n",
              "          element.appendChild(docLink);\n",
              "        }\n",
              "      </script>\n",
              "    </div>\n",
              "  </div>\n",
              "  "
            ]
          },
          "metadata": {},
          "execution_count": 12
        }
      ]
    },
    {
      "cell_type": "code",
      "source": [
        "df2=df.reset_index()['close']"
      ],
      "metadata": {
        "id": "QfUF7wLkdC7b"
      },
      "execution_count": 13,
      "outputs": []
    },
    {
      "cell_type": "code",
      "source": [
        "df2[1228:]"
      ],
      "metadata": {
        "colab": {
          "base_uri": "https://localhost:8080/"
        },
        "id": "Mki6qZvHdxaj",
        "outputId": "1e54f347-2e9c-448e-cc82-95d406801654"
      },
      "execution_count": 14,
      "outputs": [
        {
          "output_type": "execute_result",
          "data": {
            "text/plain": [
              "1228    133.49\n",
              "1229    133.41\n",
              "1230    134.76\n",
              "1231    135.94\n",
              "1232    135.21\n",
              "1233    135.27\n",
              "1234    137.87\n",
              "1235    141.11\n",
              "1236    142.53\n",
              "1237    141.86\n",
              "1238    143.96\n",
              "1239    145.93\n",
              "1240    143.00\n",
              "1241    144.29\n",
              "1242    145.43\n",
              "1243    150.82\n",
              "1244    154.50\n",
              "1245    151.73\n",
              "1246    154.65\n",
              "1247    151.92\n",
              "1248    150.87\n",
              "1249    151.01\n",
              "1250    153.85\n",
              "1251    153.20\n",
              "1252    155.33\n",
              "1253    153.71\n",
              "1254    152.55\n",
              "1255    148.48\n",
              "1256    148.91\n",
              "1257    149.40\n",
              "1258    146.71\n",
              "Name: close, dtype: float64"
            ]
          },
          "metadata": {},
          "execution_count": 14
        }
      ]
    },
    {
      "cell_type": "code",
      "source": [
        "df1=df.reset_index()['close']"
      ],
      "metadata": {
        "id": "Nr70_-h3d8b3"
      },
      "execution_count": 15,
      "outputs": []
    },
    {
      "cell_type": "code",
      "source": [
        "df1.shape"
      ],
      "metadata": {
        "colab": {
          "base_uri": "https://localhost:8080/"
        },
        "id": "wm1_lBuQfAsu",
        "outputId": "72a0ba43-690f-4dcd-b717-640d55dcfb43"
      },
      "execution_count": 16,
      "outputs": [
        {
          "output_type": "execute_result",
          "data": {
            "text/plain": [
              "(1259,)"
            ]
          },
          "metadata": {},
          "execution_count": 16
        }
      ]
    },
    {
      "cell_type": "code",
      "source": [
        "import matplotlib.pyplot as plt\n",
        "plt.plot(df1)"
      ],
      "metadata": {
        "colab": {
          "base_uri": "https://localhost:8080/",
          "height": 282
        },
        "id": "u6iO7aU-fGVL",
        "outputId": "a885c544-cb88-49f0-8251-abbf1e5cbf14"
      },
      "execution_count": 17,
      "outputs": [
        {
          "output_type": "execute_result",
          "data": {
            "text/plain": [
              "[<matplotlib.lines.Line2D at 0x7f9677a50e50>]"
            ]
          },
          "metadata": {},
          "execution_count": 17
        },
        {
          "output_type": "display_data",
          "data": {
            "text/plain": [
              "<Figure size 432x288 with 1 Axes>"
            ],
            "image/png": "[encoded data removed]"
          },
          "metadata": {
            "needs_background": "light"
          }
        }
      ]
    },
    {
      "cell_type": "code",
      "source": [
        "#LSTM are sensitive to the scale of the data, so we apply MinMax scaler\n",
        "import numpy as np"
      ],
      "metadata": {
        "id": "7vLP0hlafV1d"
      },
      "execution_count": 18,
      "outputs": []
    },
    {
      "cell_type": "code",
      "source": [
        "from sklearn.preprocessing import MinMaxScaler\n",
        "scaler=MinMaxScaler(feature_range=(0,1))\n",
        "df1=scaler.fit_transform(np.array(df1).reshape(-1,1))"
      ],
      "metadata": {
        "id": "M9ReMoV6fzzN"
      },
      "execution_count": 19,
      "outputs": []
    },
    {
      "cell_type": "code",
      "source": [
        "df1.shape"
      ],
      "metadata": {
        "colab": {
          "base_uri": "https://localhost:8080/"
        },
        "id": "09JxeLRogW2b",
        "outputId": "0f27535c-1e3c-499c-8ae5-a0a5a8125fa6"
      },
      "execution_count": 20,
      "outputs": [
        {
          "output_type": "execute_result",
          "data": {
            "text/plain": [
              "(1259, 1)"
            ]
          },
          "metadata": {},
          "execution_count": 20
        }
      ]
    },
    {
      "cell_type": "code",
      "source": [
        "df1"
      ],
      "metadata": {
        "colab": {
          "base_uri": "https://localhost:8080/"
        },
        "id": "vaBKuIEJg4r_",
        "outputId": "8df7ab37-518f-4ced-80a9-bf4d36681e9e"
      },
      "execution_count": 21,
      "outputs": [
        {
          "output_type": "execute_result",
          "data": {
            "text/plain": [
              "array([[0.18066374],\n",
              "       [0.17921102],\n",
              "       [0.17853475],\n",
              "       ...,\n",
              "       [0.10537257],\n",
              "       [0.10659987],\n",
              "       [0.09986224]])"
            ]
          },
          "metadata": {},
          "execution_count": 21
        }
      ]
    },
    {
      "cell_type": "code",
      "source": [
        "#splitting dataset into train and test split\n",
        "training_size=int(len(df1)*0.65)\n",
        "test_size=len(df1)-training_size\n",
        "train_data,test_data=df1[0:training_size,:],df1[training_size:len(df1),:1]"
      ],
      "metadata": {
        "id": "lhwq_TGRggD2"
      },
      "execution_count": 22,
      "outputs": []
    },
    {
      "cell_type": "code",
      "source": [
        "training_size,test_size"
      ],
      "metadata": {
        "colab": {
          "base_uri": "https://localhost:8080/"
        },
        "id": "OBGBm-hciLHl",
        "outputId": "761ef403-7529-49e5-e60c-8155c6eeae3f"
      },
      "execution_count": 23,
      "outputs": [
        {
          "output_type": "execute_result",
          "data": {
            "text/plain": [
              "(818, 441)"
            ]
          },
          "metadata": {},
          "execution_count": 23
        }
      ]
    },
    {
      "cell_type": "code",
      "source": [
        "len(train_data) , len(test_data)"
      ],
      "metadata": {
        "colab": {
          "base_uri": "https://localhost:8080/"
        },
        "id": "cy65OgyziXL9",
        "outputId": "0658c56c-6ca0-4614-f6bb-aec0a4f85442"
      },
      "execution_count": 24,
      "outputs": [
        {
          "output_type": "execute_result",
          "data": {
            "text/plain": [
              "(818, 441)"
            ]
          },
          "metadata": {},
          "execution_count": 24
        }
      ]
    },
    {
      "cell_type": "code",
      "source": [
        "import numpy\n",
        "#convert an array of values into a dataset matrix\n",
        "def create_dataset(dataset, time_step=1):\n",
        "  dataX, dataY = [], []\n",
        "  for i in range(len(dataset)-time_step-1):\n",
        "    a = dataset[i:(i+time_step), 0]  #i=0, 0,1,2,3\n",
        "    dataX.append(a)\n",
        "    dataY.append(dataset[i + time_step, 0])\n",
        "  return numpy.array(dataX), numpy.array(dataY)\n"
      ],
      "metadata": {
        "id": "JHmG-BpTisad"
      },
      "execution_count": 27,
      "outputs": []
    },
    {
      "cell_type": "code",
      "source": [
        "#reshape into X=t,t+1,t+2,t+3 and Y=t+4\n",
        "time_step = 100\n",
        "X_train, y_train = create_dataset(train_data,time_step)\n",
        "X_test, ytest = create_dataset(test_data, time_step)"
      ],
      "metadata": {
        "id": "QT_it5JPkDNv"
      },
      "execution_count": 28,
      "outputs": []
    },
    {
      "cell_type": "code",
      "source": [
        "print(X_train)"
      ],
      "metadata": {
        "colab": {
          "base_uri": "https://localhost:8080/"
        },
        "id": "I3bf3UrIksrB",
        "outputId": "e65a97d4-a57c-4ca3-d92a-6cf6479326e7"
      },
      "execution_count": 29,
      "outputs": [
        {
          "output_type": "stream",
          "name": "stdout",
          "text": [
            "[[0.18066374 0.17921102 0.17853475 ... 0.21056982 0.21192235 0.20929242]\n",
            " [0.17921102 0.17853475 0.1707201  ... 0.21192235 0.20929242 0.21299937]\n",
            " [0.17853475 0.1707201  0.17375078 ... 0.20929242 0.21299937 0.21189731]\n",
            " ...\n",
            " [0.06294302 0.07476518 0.07020664 ... 0.04866625 0.04510958 0.04470883]\n",
            " [0.07476518 0.07020664 0.06732624 ... 0.04510958 0.04470883 0.05127113]\n",
            " [0.07020664 0.06732624 0.0647464  ... 0.04470883 0.05127113 0.0465623 ]]\n"
          ]
        }
      ]
    },
    {
      "cell_type": "code",
      "source": [
        "print(X_train.shape), print(y_train.shape)"
      ],
      "metadata": {
        "colab": {
          "base_uri": "https://localhost:8080/"
        },
        "id": "sWFOnGW5kxi5",
        "outputId": "444b2867-9336-4ff1-a6ca-1a5000d3eb25"
      },
      "execution_count": 30,
      "outputs": [
        {
          "output_type": "stream",
          "name": "stdout",
          "text": [
            "(717, 100)\n",
            "(717,)\n"
          ]
        },
        {
          "output_type": "execute_result",
          "data": {
            "text/plain": [
              "(None, None)"
            ]
          },
          "metadata": {},
          "execution_count": 30
        }
      ]
    },
    {
      "cell_type": "code",
      "source": [
        "print(X_test.shape), print(ytest.shape)"
      ],
      "metadata": {
        "colab": {
          "base_uri": "https://localhost:8080/"
        },
        "id": "f5Ry0xSPlGLo",
        "outputId": "71d6b5f1-6082-47a3-e537-ae809b47ac29"
      },
      "execution_count": 31,
      "outputs": [
        {
          "output_type": "stream",
          "name": "stdout",
          "text": [
            "(340, 100)\n",
            "(340,)\n"
          ]
        },
        {
          "output_type": "execute_result",
          "data": {
            "text/plain": [
              "(None, None)"
            ]
          },
          "metadata": {},
          "execution_count": 31
        }
      ]
    },
    {
      "cell_type": "code",
      "source": [
        "#reshape input to be [samples, time steps, features] which is required in LSTM\n",
        "X_train =X_train.reshape(X_train.shape[0],X_train.shape[1] ,1)\n",
        "X_test = X_test.reshape(X_test.shape[0],X_test.shape[1] , 1)"
      ],
      "metadata": {
        "id": "BDESHP9glQsG"
      },
      "execution_count": 32,
      "outputs": []
    },
    {
      "cell_type": "code",
      "source": [
        "#create the LSTM model\n",
        "from tensorflow.keras.models import Sequential\n",
        "from tensorflow.keras.layers import Dense\n",
        "from tensorflow.keras.layers import LSTM"
      ],
      "metadata": {
        "id": "hWYu76OymAcx"
      },
      "execution_count": 34,
      "outputs": []
    },
    {
      "cell_type": "code",
      "source": [
        "mode1=Sequential()\n",
        "mode1.add(LSTM(50,return_sequences=True,input_shape=(100,1)))\n",
        "mode1.add(LSTM(50,return_sequences=True))\n",
        "mode1.add(LSTM(50))\n",
        "mode1.add(Dense(1))\n",
        "mode1.compile(loss='mean_squared_error',optimizer='adam')\n"
      ],
      "metadata": {
        "id": "IA83qVe2mm8H"
      },
      "execution_count": 36,
      "outputs": []
    },
    {
      "cell_type": "code",
      "source": [
        "mode1.summary()"
      ],
      "metadata": {
        "colab": {
          "base_uri": "https://localhost:8080/"
        },
        "id": "HEywWT4vnw5X",
        "outputId": "21151cf7-caf5-4afb-ed25-ce27745d928f"
      },
      "execution_count": 37,
      "outputs": [
        {
          "output_type": "stream",
          "name": "stdout",
          "text": [
            "Model: \"sequential_1\"\n",
            "_________________________________________________________________\n",
            " Layer (type)                Output Shape              Param #   \n",
            "=================================================================\n",
            " lstm (LSTM)                 (None, 100, 50)           10400     \n",
            "                                                                 \n",
            " lstm_1 (LSTM)               (None, 100, 50)           20200     \n",
            "                                                                 \n",
            " lstm_2 (LSTM)               (None, 50)                20200     \n",
            "                                                                 \n",
            " dense (Dense)               (None, 1)                 51        \n",
            "                                                                 \n",
            "=================================================================\n",
            "Total params: 50,851\n",
            "Trainable params: 50,851\n",
            "Non-trainable params: 0\n",
            "_________________________________________________________________\n"
          ]
        }
      ]
    },
    {
      "cell_type": "code",
      "source": [
        "X_train[:100]"
      ],
      "metadata": {
        "colab": {
          "base_uri": "https://localhost:8080/"
        },
        "id": "fEEz5Fimn4gk",
        "outputId": "342c839a-9f5a-4ead-c492-8146d967b0f8"
      },
      "execution_count": 38,
      "outputs": [
        {
          "output_type": "execute_result",
          "data": {
            "text/plain": [
              "array([[[0.18066374],\n",
              "        [0.17921102],\n",
              "        [0.17853475],\n",
              "        ...,\n",
              "        [0.21056982],\n",
              "        [0.21192235],\n",
              "        [0.20929242]],\n",
              "\n",
              "       [[0.17921102],\n",
              "        [0.17853475],\n",
              "        [0.1707201 ],\n",
              "        ...,\n",
              "        [0.21192235],\n",
              "        [0.20929242],\n",
              "        [0.21299937]],\n",
              "\n",
              "       [[0.17853475],\n",
              "        [0.1707201 ],\n",
              "        [0.17375078],\n",
              "        ...,\n",
              "        [0.20929242],\n",
              "        [0.21299937],\n",
              "        [0.21189731]],\n",
              "\n",
              "       ...,\n",
              "\n",
              "       [[0.21056982],\n",
              "        [0.21192235],\n",
              "        [0.20929242],\n",
              "        ...,\n",
              "        [0.17968691],\n",
              "        [0.19531622],\n",
              "        [0.17495304]],\n",
              "\n",
              "       [[0.21192235],\n",
              "        [0.20929242],\n",
              "        [0.21299937],\n",
              "        ...,\n",
              "        [0.19531622],\n",
              "        [0.17495304],\n",
              "        [0.17001879]],\n",
              "\n",
              "       [[0.20929242],\n",
              "        [0.21299937],\n",
              "        [0.21189731],\n",
              "        ...,\n",
              "        [0.17495304],\n",
              "        [0.17001879],\n",
              "        [0.15441453]]])"
            ]
          },
          "metadata": {},
          "execution_count": 38
        }
      ]
    },
    {
      "cell_type": "code",
      "source": [
        "mode1.fit(X_train,y_train,validation_data=(X_test,ytest),epochs=100,batch_size=64,verbose=1)"
      ],
      "metadata": {
        "colab": {
          "base_uri": "https://localhost:8080/"
        },
        "id": "WzXAJvhHoAsy",
        "outputId": "bdf83184-f244-4355-d1dc-a3cf3470866f"
      },
      "execution_count": 39,
      "outputs": [
        {
          "output_type": "stream",
          "name": "stdout",
          "text": [
            "Epoch 1/100\n",
            "12/12 [==============================] - 12s 382ms/step - loss: 0.0382 - val_loss: 0.0015\n",
            "Epoch 2/100\n",
            "12/12 [==============================] - 4s 339ms/step - loss: 0.0145 - val_loss: 0.0036\n",
            "Epoch 3/100\n",
            "12/12 [==============================] - 3s 224ms/step - loss: 0.0110 - val_loss: 4.4419e-04\n",
            "Epoch 4/100\n",
            "12/12 [==============================] - 3s 252ms/step - loss: 0.0095 - val_loss: 5.6511e-04\n",
            "Epoch 5/100\n",
            "12/12 [==============================] - 3s 227ms/step - loss: 0.0089 - val_loss: 0.0017\n",
            "Epoch 6/100\n",
            "12/12 [==============================] - 4s 317ms/step - loss: 0.0082 - val_loss: 0.0021\n",
            "Epoch 7/100\n",
            "12/12 [==============================] - 3s 264ms/step - loss: 0.0079 - val_loss: 3.9459e-04\n",
            "Epoch 8/100\n",
            "12/12 [==============================] - 3s 225ms/step - loss: 0.0060 - val_loss: 3.0630e-04\n",
            "Epoch 9/100\n",
            "12/12 [==============================] - 3s 227ms/step - loss: 0.0057 - val_loss: 3.8904e-04\n",
            "Epoch 10/100\n",
            "12/12 [==============================] - 3s 278ms/step - loss: 0.0050 - val_loss: 4.0697e-04\n",
            "Epoch 11/100\n",
            "12/12 [==============================] - 3s 274ms/step - loss: 0.0042 - val_loss: 3.6074e-04\n",
            "Epoch 12/100\n",
            "12/12 [==============================] - 3s 230ms/step - loss: 0.0038 - val_loss: 8.9976e-04\n",
            "Epoch 13/100\n",
            "12/12 [==============================] - 3s 222ms/step - loss: 0.0036 - val_loss: 4.0515e-04\n",
            "Epoch 14/100\n",
            "12/12 [==============================] - 3s 229ms/step - loss: 0.0036 - val_loss: 5.2638e-04\n",
            "Epoch 15/100\n",
            "12/12 [==============================] - 4s 364ms/step - loss: 0.0027 - val_loss: 2.8640e-04\n",
            "Epoch 16/100\n",
            "12/12 [==============================] - 3s 229ms/step - loss: 0.0030 - val_loss: 7.6124e-04\n",
            "Epoch 17/100\n",
            "12/12 [==============================] - 3s 255ms/step - loss: 0.0027 - val_loss: 3.5344e-04\n",
            "Epoch 18/100\n",
            "12/12 [==============================] - 3s 232ms/step - loss: 0.0034 - val_loss: 3.0733e-04\n",
            "Epoch 19/100\n",
            "12/12 [==============================] - 4s 368ms/step - loss: 0.0040 - val_loss: 4.4860e-04\n",
            "Epoch 20/100\n",
            "12/12 [==============================] - 3s 255ms/step - loss: 0.0032 - val_loss: 2.8957e-04\n",
            "Epoch 21/100\n",
            "12/12 [==============================] - 3s 236ms/step - loss: 0.0032 - val_loss: 5.7162e-04\n",
            "Epoch 22/100\n",
            "12/12 [==============================] - 3s 255ms/step - loss: 0.0028 - val_loss: 2.8873e-04\n",
            "Epoch 23/100\n",
            "12/12 [==============================] - 4s 362ms/step - loss: 0.0026 - val_loss: 3.8753e-04\n",
            "Epoch 24/100\n",
            "12/12 [==============================] - 3s 264ms/step - loss: 0.0024 - val_loss: 2.8672e-04\n",
            "Epoch 25/100\n",
            "12/12 [==============================] - 3s 235ms/step - loss: 0.0029 - val_loss: 9.0621e-04\n",
            "Epoch 26/100\n",
            "12/12 [==============================] - 3s 233ms/step - loss: 0.0080 - val_loss: 0.0060\n",
            "Epoch 27/100\n",
            "12/12 [==============================] - 4s 347ms/step - loss: 0.0055 - val_loss: 4.0773e-04\n",
            "Epoch 28/100\n",
            "12/12 [==============================] - 3s 233ms/step - loss: 0.0032 - val_loss: 2.8334e-04\n",
            "Epoch 29/100\n",
            "12/12 [==============================] - 3s 256ms/step - loss: 0.0028 - val_loss: 3.5959e-04\n",
            "Epoch 30/100\n",
            "12/12 [==============================] - 3s 234ms/step - loss: 0.0027 - val_loss: 3.4774e-04\n",
            "Epoch 31/100\n",
            "12/12 [==============================] - 4s 340ms/step - loss: 0.0024 - val_loss: 2.9122e-04\n",
            "Epoch 32/100\n",
            "12/12 [==============================] - 3s 231ms/step - loss: 0.0024 - val_loss: 5.1785e-04\n",
            "Epoch 33/100\n",
            "12/12 [==============================] - 3s 254ms/step - loss: 0.0025 - val_loss: 2.9351e-04\n",
            "Epoch 34/100\n",
            "12/12 [==============================] - 3s 234ms/step - loss: 0.0039 - val_loss: 5.2877e-04\n",
            "Epoch 35/100\n",
            "12/12 [==============================] - 4s 318ms/step - loss: 0.0028 - val_loss: 2.5874e-04\n",
            "Epoch 36/100\n",
            "12/12 [==============================] - 3s 237ms/step - loss: 0.0022 - val_loss: 3.2028e-04\n",
            "Epoch 37/100\n",
            "12/12 [==============================] - 3s 236ms/step - loss: 0.0024 - val_loss: 3.1588e-04\n",
            "Epoch 38/100\n",
            "12/12 [==============================] - 3s 231ms/step - loss: 0.0019 - val_loss: 2.7004e-04\n",
            "Epoch 39/100\n",
            "12/12 [==============================] - 3s 285ms/step - loss: 0.0019 - val_loss: 3.0272e-04\n",
            "Epoch 40/100\n",
            "12/12 [==============================] - 4s 299ms/step - loss: 0.0018 - val_loss: 2.6942e-04\n",
            "Epoch 41/100\n",
            "12/12 [==============================] - 3s 236ms/step - loss: 0.0017 - val_loss: 2.7473e-04\n",
            "Epoch 42/100\n",
            "12/12 [==============================] - 4s 310ms/step - loss: 0.0017 - val_loss: 2.8605e-04\n",
            "Epoch 43/100\n",
            "12/12 [==============================] - 4s 353ms/step - loss: 0.0020 - val_loss: 2.8224e-04\n",
            "Epoch 44/100\n",
            "12/12 [==============================] - 3s 241ms/step - loss: 0.0016 - val_loss: 2.7876e-04\n",
            "Epoch 45/100\n",
            "12/12 [==============================] - 3s 236ms/step - loss: 0.0017 - val_loss: 2.9705e-04\n",
            "Epoch 46/100\n",
            "12/12 [==============================] - 3s 235ms/step - loss: 0.0016 - val_loss: 3.1276e-04\n",
            "Epoch 47/100\n",
            "12/12 [==============================] - 4s 315ms/step - loss: 0.0019 - val_loss: 2.8445e-04\n",
            "Epoch 48/100\n",
            "12/12 [==============================] - 3s 252ms/step - loss: 0.0016 - val_loss: 3.0403e-04\n",
            "Epoch 49/100\n",
            "12/12 [==============================] - 3s 259ms/step - loss: 0.0014 - val_loss: 2.9125e-04\n",
            "Epoch 50/100\n",
            "12/12 [==============================] - 3s 239ms/step - loss: 0.0013 - val_loss: 2.9860e-04\n",
            "Epoch 51/100\n",
            "12/12 [==============================] - 3s 296ms/step - loss: 0.0018 - val_loss: 2.8337e-04\n",
            "Epoch 52/100\n",
            "12/12 [==============================] - 3s 272ms/step - loss: 0.0017 - val_loss: 2.9548e-04\n",
            "Epoch 53/100\n",
            "12/12 [==============================] - 3s 235ms/step - loss: 0.0015 - val_loss: 2.7612e-04\n",
            "Epoch 54/100\n",
            "12/12 [==============================] - 3s 242ms/step - loss: 0.0015 - val_loss: 2.8933e-04\n",
            "Epoch 55/100\n",
            "12/12 [==============================] - 3s 260ms/step - loss: 0.0020 - val_loss: 4.5357e-04\n",
            "Epoch 56/100\n",
            "12/12 [==============================] - 4s 298ms/step - loss: 0.0019 - val_loss: 3.1699e-04\n",
            "Epoch 57/100\n",
            "12/12 [==============================] - 3s 250ms/step - loss: 0.0014 - val_loss: 2.7574e-04\n",
            "Epoch 58/100\n",
            "12/12 [==============================] - 3s 258ms/step - loss: 0.0016 - val_loss: 3.4445e-04\n",
            "Epoch 59/100\n",
            "12/12 [==============================] - 3s 260ms/step - loss: 0.0019 - val_loss: 2.9428e-04\n",
            "Epoch 60/100\n",
            "12/12 [==============================] - 4s 340ms/step - loss: 0.0018 - val_loss: 2.7876e-04\n",
            "Epoch 61/100\n",
            "12/12 [==============================] - 3s 242ms/step - loss: 0.0018 - val_loss: 2.8281e-04\n",
            "Epoch 62/100\n",
            "12/12 [==============================] - 3s 271ms/step - loss: 0.0017 - val_loss: 3.4088e-04\n",
            "Epoch 63/100\n",
            "12/12 [==============================] - 3s 289ms/step - loss: 0.0017 - val_loss: 4.2003e-04\n",
            "Epoch 64/100\n",
            "12/12 [==============================] - 4s 300ms/step - loss: 0.0019 - val_loss: 2.9304e-04\n",
            "Epoch 65/100\n",
            "12/12 [==============================] - 3s 238ms/step - loss: 0.0015 - val_loss: 2.9252e-04\n",
            "Epoch 66/100\n",
            "12/12 [==============================] - 3s 260ms/step - loss: 0.0018 - val_loss: 2.9932e-04\n",
            "Epoch 67/100\n",
            "12/12 [==============================] - 3s 294ms/step - loss: 0.0013 - val_loss: 2.8808e-04\n",
            "Epoch 68/100\n",
            "12/12 [==============================] - 4s 303ms/step - loss: 0.0014 - val_loss: 3.5249e-04\n",
            "Epoch 69/100\n",
            "12/12 [==============================] - 3s 243ms/step - loss: 0.0015 - val_loss: 3.5702e-04\n",
            "Epoch 70/100\n",
            "12/12 [==============================] - 3s 264ms/step - loss: 0.0023 - val_loss: 3.5200e-04\n",
            "Epoch 71/100\n",
            "12/12 [==============================] - 4s 317ms/step - loss: 0.0058 - val_loss: 6.7665e-04\n",
            "Epoch 72/100\n",
            "12/12 [==============================] - 3s 257ms/step - loss: 0.0038 - val_loss: 3.4464e-04\n",
            "Epoch 73/100\n",
            "12/12 [==============================] - 3s 246ms/step - loss: 0.0025 - val_loss: 2.9970e-04\n",
            "Epoch 74/100\n",
            "12/12 [==============================] - 3s 267ms/step - loss: 0.0019 - val_loss: 2.7663e-04\n",
            "Epoch 75/100\n",
            "12/12 [==============================] - 5s 443ms/step - loss: 0.0017 - val_loss: 2.9690e-04\n",
            "Epoch 76/100\n",
            "12/12 [==============================] - 4s 302ms/step - loss: 0.0016 - val_loss: 3.0662e-04\n",
            "Epoch 77/100\n",
            "12/12 [==============================] - 3s 268ms/step - loss: 0.0016 - val_loss: 2.8414e-04\n",
            "Epoch 78/100\n",
            "12/12 [==============================] - 6s 501ms/step - loss: 0.0020 - val_loss: 3.3202e-04\n",
            "Epoch 79/100\n",
            "12/12 [==============================] - 4s 321ms/step - loss: 0.0016 - val_loss: 3.2467e-04\n",
            "Epoch 80/100\n",
            "12/12 [==============================] - 3s 264ms/step - loss: 0.0032 - val_loss: 2.7066e-04\n",
            "Epoch 81/100\n",
            "12/12 [==============================] - 3s 262ms/step - loss: 0.0030 - val_loss: 2.9696e-04\n",
            "Epoch 82/100\n",
            "12/12 [==============================] - 4s 319ms/step - loss: 0.0036 - val_loss: 3.5256e-04\n",
            "Epoch 83/100\n",
            "12/12 [==============================] - 3s 238ms/step - loss: 0.0051 - val_loss: 0.0012\n",
            "Epoch 84/100\n",
            "12/12 [==============================] - 3s 241ms/step - loss: 0.0029 - val_loss: 6.4776e-04\n",
            "Epoch 85/100\n",
            "12/12 [==============================] - 3s 265ms/step - loss: 0.0019 - val_loss: 3.0238e-04\n",
            "Epoch 86/100\n",
            "12/12 [==============================] - 4s 346ms/step - loss: 0.0019 - val_loss: 2.8360e-04\n",
            "Epoch 87/100\n",
            "12/12 [==============================] - 3s 269ms/step - loss: 0.0018 - val_loss: 2.7114e-04\n",
            "Epoch 88/100\n",
            "12/12 [==============================] - 3s 267ms/step - loss: 0.0017 - val_loss: 2.8151e-04\n",
            "Epoch 89/100\n",
            "12/12 [==============================] - 3s 294ms/step - loss: 0.0018 - val_loss: 2.6993e-04\n",
            "Epoch 90/100\n",
            "12/12 [==============================] - 3s 280ms/step - loss: 0.0016 - val_loss: 3.0262e-04\n",
            "Epoch 91/100\n",
            "12/12 [==============================] - 3s 243ms/step - loss: 0.0014 - val_loss: 3.2402e-04\n",
            "Epoch 92/100\n",
            "12/12 [==============================] - 3s 238ms/step - loss: 0.0015 - val_loss: 2.7899e-04\n",
            "Epoch 93/100\n",
            "12/12 [==============================] - 3s 276ms/step - loss: 0.0018 - val_loss: 2.8093e-04\n",
            "Epoch 94/100\n",
            "12/12 [==============================] - 4s 315ms/step - loss: 0.0011 - val_loss: 2.9065e-04\n",
            "Epoch 95/100\n",
            "12/12 [==============================] - 3s 245ms/step - loss: 0.0017 - val_loss: 4.6499e-04\n",
            "Epoch 96/100\n",
            "12/12 [==============================] - 3s 244ms/step - loss: 0.0026 - val_loss: 2.7000e-04\n",
            "Epoch 97/100\n",
            "12/12 [==============================] - 3s 274ms/step - loss: 0.0019 - val_loss: 5.5389e-04\n",
            "Epoch 98/100\n",
            "12/12 [==============================] - 4s 300ms/step - loss: 0.0015 - val_loss: 4.0820e-04\n",
            "Epoch 99/100\n",
            "12/12 [==============================] - 3s 240ms/step - loss: 0.0012 - val_loss: 2.6771e-04\n",
            "Epoch 100/100\n",
            "12/12 [==============================] - 3s 243ms/step - loss: 0.0015 - val_loss: 5.2069e-04\n"
          ]
        },
        {
          "output_type": "execute_result",
          "data": {
            "text/plain": [
              "<keras.callbacks.History at 0x7f9677a17880>"
            ]
          },
          "metadata": {},
          "execution_count": 39
        }
      ]
    },
    {
      "cell_type": "code",
      "source": [
        "import tensorflow as tf"
      ],
      "metadata": {
        "id": "0MhmDWLopTHR"
      },
      "execution_count": 40,
      "outputs": []
    },
    {
      "cell_type": "code",
      "source": [
        "tf.__version__"
      ],
      "metadata": {
        "colab": {
          "base_uri": "https://localhost:8080/",
          "height": 36
        },
        "id": "hU9J5o7Wp5iS",
        "outputId": "f22281c2-5ddc-49dc-e048-0c71a362b1fc"
      },
      "execution_count": 42,
      "outputs": [
        {
          "output_type": "execute_result",
          "data": {
            "text/plain": [
              "'2.11.0'"
            ],
            "application/vnd.google.colaboratory.intrinsic+json": {
              "type": "string"
            }
          },
          "metadata": {},
          "execution_count": 42
        }
      ]
    },
    {
      "cell_type": "code",
      "source": [
        "from re import X\n",
        "#prediction and check performance\n",
        "train_predict=mode1.predict(X_train)\n",
        "test_predict=mode1.predict(X_test)"
      ],
      "metadata": {
        "colab": {
          "base_uri": "https://localhost:8080/"
        },
        "id": "5vn2LQ49qNKa",
        "outputId": "deb69554-503c-4b56-a937-4815e93c0ea6"
      },
      "execution_count": 43,
      "outputs": [
        {
          "output_type": "stream",
          "name": "stdout",
          "text": [
            "23/23 [==============================] - 2s 49ms/step\n",
            "11/11 [==============================] - 1s 54ms/step\n"
          ]
        }
      ]
    },
    {
      "cell_type": "code",
      "source": [
        "#transformback\n",
        "train_predict=scaler.inverse_transform(train_predict)\n",
        "test_predict=scaler.inverse_transform(test_predict)"
      ],
      "metadata": {
        "id": "JWWs7jmMqi-C"
      },
      "execution_count": 44,
      "outputs": []
    },
    {
      "cell_type": "code",
      "source": [
        "#calculate RMSE\n",
        "import math \n",
        "from sklearn.metrics import mean_squared_error\n",
        "math.sqrt(mean_squared_error(y_train,train_predict))"
      ],
      "metadata": {
        "colab": {
          "base_uri": "https://localhost:8080/"
        },
        "id": "sZa-6xbhq83v",
        "outputId": "794a40bd-e4ba-42a0-da00-5428cfaaf481"
      },
      "execution_count": 46,
      "outputs": [
        {
          "output_type": "execute_result",
          "data": {
            "text/plain": [
              "234.03857835051537"
            ]
          },
          "metadata": {},
          "execution_count": 46
        }
      ]
    },
    {
      "cell_type": "code",
      "source": [
        "#test data RMSE\n",
        "math.sqrt(mean_squared_error(ytest,test_predict))"
      ],
      "metadata": {
        "colab": {
          "base_uri": "https://localhost:8080/"
        },
        "id": "4LZS2JkAraMK",
        "outputId": "3b68c362-fb17-4542-d476-1230f9f5c286"
      },
      "execution_count": 47,
      "outputs": [
        {
          "output_type": "execute_result",
          "data": {
            "text/plain": [
              "161.43761519288262"
            ]
          },
          "metadata": {},
          "execution_count": 47
        }
      ]
    },
    {
      "cell_type": "code",
      "source": [
        "#plotting\n",
        "look_back=100\n",
        "trainPredictPlot = numpy.empty_like(df1)\n",
        "trainPredictPlot[:, :] = np.nan\n",
        "trainPredictPlot[look_back:len(train_predict)+look_back, :] = train_predict\n",
        "#shift test\n",
        "testPredictPlot = numpy.empty_like(df1)\n",
        "testPredictPlot[:, :] = numpy.nan\n",
        "testPredictPlot[len(train_predict)+(look_back*2)+1:len(df1)-1, :] = test_predict\n",
        "#plot baseline and predictions\n",
        "plt.plot(scaler.inverse_transform(df1))\n",
        "plt.plot(trainPredictPlot)\n",
        "plt.plot(testPredictPlot)\n",
        "plt.show()"
      ],
      "metadata": {
        "colab": {
          "base_uri": "https://localhost:8080/",
          "height": 265
        },
        "id": "Qz8wj99nrmgd",
        "outputId": "a35e0edc-4ea8-4d1e-e227-815ea058d8d1"
      },
      "execution_count": 48,
      "outputs": [
        {
          "output_type": "display_data",
          "data": {
            "text/plain": [
              "<Figure size 432x288 with 1 Axes>"
            ],
            "image/png": "[encoded data removed]"
          },
          "metadata": {
            "needs_background": "light"
          }
        }
      ]
    },
    {
      "cell_type": "code",
      "source": [
        "len(test_data)"
      ],
      "metadata": {
        "colab": {
          "base_uri": "https://localhost:8080/"
        },
        "id": "Ph6IitVFt5bT",
        "outputId": "196c0b0e-2baf-4e57-b37d-9d00f6dd5bc4"
      },
      "execution_count": 49,
      "outputs": [
        {
          "output_type": "execute_result",
          "data": {
            "text/plain": [
              "441"
            ]
          },
          "metadata": {},
          "execution_count": 49
        }
      ]
    },
    {
      "cell_type": "code",
      "source": [
        "x_input=test_data[341:].reshape(1,-1)\n",
        "x_input.shape"
      ],
      "metadata": {
        "colab": {
          "base_uri": "https://localhost:8080/"
        },
        "id": "Z3982MIeuU_T",
        "outputId": "61b20d50-9ac2-45b6-c69f-aa9c8fc5196b"
      },
      "execution_count": 50,
      "outputs": [
        {
          "output_type": "execute_result",
          "data": {
            "text/plain": [
              "(1, 100)"
            ]
          },
          "metadata": {},
          "execution_count": 50
        }
      ]
    },
    {
      "cell_type": "code",
      "source": [
        "x_input.shape"
      ],
      "metadata": {
        "colab": {
          "base_uri": "https://localhost:8080/"
        },
        "id": "0OYkYl2eujPu",
        "outputId": "fefdbc3e-c547-46cb-bee3-de1737202d2a"
      },
      "execution_count": 51,
      "outputs": [
        {
          "output_type": "execute_result",
          "data": {
            "text/plain": [
              "(1, 100)"
            ]
          },
          "metadata": {},
          "execution_count": 51
        }
      ]
    },
    {
      "cell_type": "code",
      "source": [
        "temp_input=list(x_input)\n",
        "temp_input=temp_input[0].tolist()"
      ],
      "metadata": {
        "id": "iU9xuziVuqwj"
      },
      "execution_count": 53,
      "outputs": []
    },
    {
      "cell_type": "code",
      "source": [
        "temp_input"
      ],
      "metadata": {
        "colab": {
          "base_uri": "https://localhost:8080/"
        },
        "id": "KwWAzjUy0O1w",
        "outputId": "6d7d117c-4186-4414-b4e5-edb4af1a3ff2"
      },
      "execution_count": 63,
      "outputs": [
        {
          "output_type": "execute_result",
          "data": {
            "text/plain": [
              "[0.08919223544145266,\n",
              " 0.09833437695679392,\n",
              " 0.09908578584846583,\n",
              " 0.09665623043206006,\n",
              " 0.08328115216030052,\n",
              " 0.08410770194113959,\n",
              " 0.08050093926111451,\n",
              " 0.07889793362554787,\n",
              " 0.09054477144646211,\n",
              " 0.07899812147777074,\n",
              " 0.08909204758922978,\n",
              " 0.0924483406386975,\n",
              " 0.09272385723231058,\n",
              " 0.09154664996869122,\n",
              " 0.1012648716343143,\n",
              " 0.10672510958046327,\n",
              " 0.11396368190356915,\n",
              " 0.10647463994990602,\n",
              " 0.09507827175954914,\n",
              " 0.1224796493425172,\n",
              " 0.11646837820914213,\n",
              " 0.10973074514715087,\n",
              " 0.0956543519098309,\n",
              " 0.08025046963055726,\n",
              " 0.07899812147777074,\n",
              " 0.08035065748278014,\n",
              " 0.08180338134001247,\n",
              " 0.07020663744520972,\n",
              " 0.10026299311208514,\n",
              " 0.10735128365685653,\n",
              " 0.103794614902943,\n",
              " 0.10820288040075132,\n",
              " 0.10507201001878513,\n",
              " 0.10990607388854096,\n",
              " 0.11133375078271751,\n",
              " 0.10311834690043825,\n",
              " 0.10855353788353161,\n",
              " 0.11078271759549146,\n",
              " 0.10336881653099561,\n",
              " 0.09362554790231681,\n",
              " 0.08598622417031926,\n",
              " 0.10316844082654975,\n",
              " 0.10386975579211016,\n",
              " 0.1026174076393237,\n",
              " 0.0996618659987476,\n",
              " 0.09034439574201625,\n",
              " 0.08541014402003755,\n",
              " 0.08969317470256727,\n",
              " 0.08846587351283652,\n",
              " 0.0943018159048215,\n",
              " 0.096756418284283,\n",
              " 0.09109580463368816,\n",
              " 0.07428929242329363,\n",
              " 0.06930494677520344,\n",
              " 0.06394489668127734,\n",
              " 0.06376956793988725,\n",
              " 0.07165936130244199,\n",
              " 0.0635942391984971,\n",
              " 0.06266750156543521,\n",
              " 0.05808390732623664,\n",
              " 0.04809016906700059,\n",
              " 0.05703193487789604,\n",
              " 0.05783343769567939,\n",
              " 0.04566061365059482,\n",
              " 0.04889167188478394,\n",
              " 0.045535378835316165,\n",
              " 0.05705698184095176,\n",
              " 0.05838447088290544,\n",
              " 0.05983719474013771,\n",
              " 0.06675015654351907,\n",
              " 0.0665497808390732,\n",
              " 0.0699311208515967,\n",
              " 0.0728866624921728,\n",
              " 0.07105823418910456,\n",
              " 0.07120851596743893,\n",
              " 0.07772072636192856,\n",
              " 0.08583594239198494,\n",
              " 0.08939261114589853,\n",
              " 0.08771446462116467,\n",
              " 0.09297432686286783,\n",
              " 0.09790857858484658,\n",
              " 0.09056981840951783,\n",
              " 0.0938008766437069,\n",
              " 0.09665623043206006,\n",
              " 0.11015654351909826,\n",
              " 0.11937382592360674,\n",
              " 0.1124358171571696,\n",
              " 0.11974953036944269,\n",
              " 0.11291170945522849,\n",
              " 0.11028177833437691,\n",
              " 0.1106324358171571,\n",
              " 0.11774577332498432,\n",
              " 0.11611772072636184,\n",
              " 0.12145272385723233,\n",
              " 0.11739511584220413,\n",
              " 0.11448966812773947,\n",
              " 0.10429555416405756,\n",
              " 0.10537257357545393,\n",
              " 0.10659987476518468,\n",
              " 0.09986224170319347,\n",
              " 0.13113433122634888]"
            ]
          },
          "metadata": {},
          "execution_count": 63
        }
      ]
    },
    {
      "cell_type": "code",
      "source": [
        "#demonstrate prediction for next 10 days\n",
        "from numpy import array\n",
        "lst_output=[]\n",
        "n_steps=100\n",
        "i=0\n",
        "while(i<30):\n",
        "  if(len(temp_input)>100):\n",
        "    x_input=np.array(temp_input[1:])\n",
        "    print(\"{} day input {}\".format(i,x_input))\n",
        "    x_input=x_input.reshape(1,-1)\n",
        "    x = x_input.reshape((1, n_steps, 1))\n",
        "    yhat = mode1.predict(x_input, verbose=0)\n",
        "    print(\"{} day output {}\".format(i,yhat))\n",
        "    temp_input.extend(yhat[0].tolist())\n",
        "    temp_input=temp_input[1:]\n",
        "    lst_output.extend(yhat.tolist())\n",
        "    i=i+1\n",
        "  else:\n",
        "    x_input = x_input.reshape((1, n_steps,1))\n",
        "    yhat = model.predict(x_input, verbose=0)\n",
        "    print(yhat[0])\n",
        "    temp_input.extend(yhat[0].tolist())\n",
        "    print(len(temp_input))\n",
        "    lst_output.extend(yhat.tolist())\n",
        "    i=i+1\n",
        "print(lst_output)"
      ],
      "metadata": {
        "colab": {
          "base_uri": "https://localhost:8080/",
          "height": 744
        },
        "id": "mCMi6jBKvDFi",
        "outputId": "471cfa0f-fd55-451c-cd1d-bcf445cf4874"
      },
      "execution_count": 72,
      "outputs": [
        {
          "output_type": "stream",
          "name": "stdout",
          "text": [
            "0 day input [0.09833438 0.09908579 0.09665623 0.08328115 0.0841077  0.08050094\n",
            " 0.07889793 0.09054477 0.07899812 0.08909205 0.09244834 0.09272386\n",
            " 0.09154665 0.10126487 0.10672511 0.11396368 0.10647464 0.09507827\n",
            " 0.12247965 0.11646838 0.10973075 0.09565435 0.08025047 0.07899812\n",
            " 0.08035066 0.08180338 0.07020664 0.10026299 0.10735128 0.10379461\n",
            " 0.10820288 0.10507201 0.10990607 0.11133375 0.10311835 0.10855354\n",
            " 0.11078272 0.10336882 0.09362555 0.08598622 0.10316844 0.10386976\n",
            " 0.10261741 0.09966187 0.0903444  0.08541014 0.08969317 0.08846587\n",
            " 0.09430182 0.09675642 0.0910958  0.07428929 0.06930495 0.0639449\n",
            " 0.06376957 0.07165936 0.06359424 0.0626675  0.05808391 0.04809017\n",
            " 0.05703193 0.05783344 0.04566061 0.04889167 0.04553538 0.05705698\n",
            " 0.05838447 0.05983719 0.06675016 0.06654978 0.06993112 0.07288666\n",
            " 0.07105823 0.07120852 0.07772073 0.08583594 0.08939261 0.08771446\n",
            " 0.09297433 0.09790858 0.09056982 0.09380088 0.09665623 0.11015654\n",
            " 0.11937383 0.11243582 0.11974953 0.11291171 0.11028178 0.11063244\n",
            " 0.11774577 0.11611772 0.12145272 0.11739512 0.11448967 0.10429555\n",
            " 0.10537257 0.10659987 0.09986224 0.13113433]\n"
          ]
        },
        {
          "output_type": "error",
          "ename": "InvalidArgumentError",
          "evalue": "ignored",
          "traceback": [
            "\u001b[0;31m---------------------------------------------------------------------------\u001b[0m",
            "\u001b[0;31mInvalidArgumentError\u001b[0m                      Traceback (most recent call last)",
            "\u001b[0;32m<ipython-input-72-0f5019aff500>\u001b[0m in \u001b[0;36m<module>\u001b[0;34m\u001b[0m\n\u001b[1;32m     10\u001b[0m     \u001b[0mx_input\u001b[0m\u001b[0;34m=\u001b[0m\u001b[0mx_input\u001b[0m\u001b[0;34m.\u001b[0m\u001b[0mreshape\u001b[0m\u001b[0;34m(\u001b[0m\u001b[0;36m1\u001b[0m\u001b[0;34m,\u001b[0m\u001b[0;34m-\u001b[0m\u001b[0;36m1\u001b[0m\u001b[0;34m)\u001b[0m\u001b[0;34m\u001b[0m\u001b[0;34m\u001b[0m\u001b[0m\n\u001b[1;32m     11\u001b[0m     \u001b[0mx\u001b[0m \u001b[0;34m=\u001b[0m \u001b[0mx_input\u001b[0m\u001b[0;34m.\u001b[0m\u001b[0mreshape\u001b[0m\u001b[0;34m(\u001b[0m\u001b[0;34m(\u001b[0m\u001b[0;36m1\u001b[0m\u001b[0;34m,\u001b[0m \u001b[0mn_steps\u001b[0m\u001b[0;34m,\u001b[0m \u001b[0;36m1\u001b[0m\u001b[0;34m)\u001b[0m\u001b[0;34m)\u001b[0m\u001b[0;34m\u001b[0m\u001b[0;34m\u001b[0m\u001b[0m\n\u001b[0;32m---> 12\u001b[0;31m     \u001b[0myhat\u001b[0m \u001b[0;34m=\u001b[0m \u001b[0mmode1\u001b[0m\u001b[0;34m.\u001b[0m\u001b[0mpredict\u001b[0m\u001b[0;34m(\u001b[0m\u001b[0mx_input\u001b[0m\u001b[0;34m,\u001b[0m \u001b[0mverbose\u001b[0m\u001b[0;34m=\u001b[0m\u001b[0;36m0\u001b[0m\u001b[0;34m)\u001b[0m\u001b[0;34m\u001b[0m\u001b[0;34m\u001b[0m\u001b[0m\n\u001b[0m\u001b[1;32m     13\u001b[0m     \u001b[0mprint\u001b[0m\u001b[0;34m(\u001b[0m\u001b[0;34m\"{} day output {}\"\u001b[0m\u001b[0;34m.\u001b[0m\u001b[0mformat\u001b[0m\u001b[0;34m(\u001b[0m\u001b[0mi\u001b[0m\u001b[0;34m,\u001b[0m\u001b[0myhat\u001b[0m\u001b[0;34m)\u001b[0m\u001b[0;34m)\u001b[0m\u001b[0;34m\u001b[0m\u001b[0;34m\u001b[0m\u001b[0m\n\u001b[1;32m     14\u001b[0m     \u001b[0mtemp_input\u001b[0m\u001b[0;34m.\u001b[0m\u001b[0mextend\u001b[0m\u001b[0;34m(\u001b[0m\u001b[0myhat\u001b[0m\u001b[0;34m[\u001b[0m\u001b[0;36m0\u001b[0m\u001b[0;34m]\u001b[0m\u001b[0;34m.\u001b[0m\u001b[0mtolist\u001b[0m\u001b[0;34m(\u001b[0m\u001b[0;34m)\u001b[0m\u001b[0;34m)\u001b[0m\u001b[0;34m\u001b[0m\u001b[0;34m\u001b[0m\u001b[0m\n",
            "\u001b[0;32m/usr/local/lib/python3.8/dist-packages/keras/utils/traceback_utils.py\u001b[0m in \u001b[0;36merror_handler\u001b[0;34m(*args, **kwargs)\u001b[0m\n\u001b[1;32m     68\u001b[0m             \u001b[0;31m# To get the full stack trace, call:\u001b[0m\u001b[0;34m\u001b[0m\u001b[0;34m\u001b[0m\u001b[0;34m\u001b[0m\u001b[0m\n\u001b[1;32m     69\u001b[0m             \u001b[0;31m# `tf.debugging.disable_traceback_filtering()`\u001b[0m\u001b[0;34m\u001b[0m\u001b[0;34m\u001b[0m\u001b[0;34m\u001b[0m\u001b[0m\n\u001b[0;32m---> 70\u001b[0;31m             \u001b[0;32mraise\u001b[0m \u001b[0me\u001b[0m\u001b[0;34m.\u001b[0m\u001b[0mwith_traceback\u001b[0m\u001b[0;34m(\u001b[0m\u001b[0mfiltered_tb\u001b[0m\u001b[0;34m)\u001b[0m \u001b[0;32mfrom\u001b[0m \u001b[0;32mNone\u001b[0m\u001b[0;34m\u001b[0m\u001b[0;34m\u001b[0m\u001b[0m\n\u001b[0m\u001b[1;32m     71\u001b[0m         \u001b[0;32mfinally\u001b[0m\u001b[0;34m:\u001b[0m\u001b[0;34m\u001b[0m\u001b[0;34m\u001b[0m\u001b[0m\n\u001b[1;32m     72\u001b[0m             \u001b[0;32mdel\u001b[0m \u001b[0mfiltered_tb\u001b[0m\u001b[0;34m\u001b[0m\u001b[0;34m\u001b[0m\u001b[0m\n",
            "\u001b[0;32m/usr/local/lib/python3.8/dist-packages/tensorflow/python/eager/execute.py\u001b[0m in \u001b[0;36mquick_execute\u001b[0;34m(op_name, num_outputs, inputs, attrs, ctx, name)\u001b[0m\n\u001b[1;32m     50\u001b[0m   \u001b[0;32mtry\u001b[0m\u001b[0;34m:\u001b[0m\u001b[0;34m\u001b[0m\u001b[0;34m\u001b[0m\u001b[0m\n\u001b[1;32m     51\u001b[0m     \u001b[0mctx\u001b[0m\u001b[0;34m.\u001b[0m\u001b[0mensure_initialized\u001b[0m\u001b[0;34m(\u001b[0m\u001b[0;34m)\u001b[0m\u001b[0;34m\u001b[0m\u001b[0;34m\u001b[0m\u001b[0m\n\u001b[0;32m---> 52\u001b[0;31m     tensors = pywrap_tfe.TFE_Py_Execute(ctx._handle, device_name, op_name,\n\u001b[0m\u001b[1;32m     53\u001b[0m                                         inputs, attrs, num_outputs)\n\u001b[1;32m     54\u001b[0m   \u001b[0;32mexcept\u001b[0m \u001b[0mcore\u001b[0m\u001b[0;34m.\u001b[0m\u001b[0m_NotOkStatusException\u001b[0m \u001b[0;32mas\u001b[0m \u001b[0me\u001b[0m\u001b[0;34m:\u001b[0m\u001b[0;34m\u001b[0m\u001b[0;34m\u001b[0m\u001b[0m\n",
            "\u001b[0;31mInvalidArgumentError\u001b[0m: Graph execution error:\n\ntranspose expects a vector of size 2. But input(1) is a vector of size 3\n\t [[{{node transpose}}]]\n\t [[sequential_1/lstm/PartitionedCall]] [Op:__inference_predict_function_20236]"
          ]
        }
      ]
    }
  ]
}